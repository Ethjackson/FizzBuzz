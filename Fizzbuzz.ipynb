{
  "nbformat": 4,
  "nbformat_minor": 0,
  "metadata": {
    "colab": {
      "name": "Fizzbuzz.ipynb",
      "provenance": [],
      "collapsed_sections": []
    },
    "kernelspec": {
      "name": "python3",
      "display_name": "Python 3"
    },
    "language_info": {
      "name": "python"
    }
  },
  "cells": [
    {
      "cell_type": "code",
      "metadata": {
        "colab": {
          "base_uri": "https://localhost:8080/"
        },
        "id": "P3peYp9nmUe6",
        "outputId": "39062f11-ae61-4f99-b596-0a39afac4dbe"
      },
      "source": [
        "inp = input(\"what number do you with to count up to? \\n\")\n",
        "N = (int(inp))\n",
        "\n",
        "for i in range(0, N + 1):\n",
        "  if (i%3 == 0 and i%5 == 0):\n",
        "    print(i,\"fizzbuzz\")\n",
        "  elif (i%3) == 0:\n",
        "    print(i,\"fizz\")\n",
        "  elif (i%5) == 0:\n",
        "    print(i,\"buzz\")\n",
        "  else:\n",
        "    print(i)"
      ],
      "execution_count": null,
      "outputs": [
        {
          "output_type": "stream",
          "text": [
            "what number do you with to count up to? \n",
            "30\n",
            "0 fizzbuzz\n",
            "1\n",
            "2\n",
            "3 fizz\n",
            "4\n",
            "5 buzz\n",
            "6 fizz\n",
            "7\n",
            "8\n",
            "9 fizz\n",
            "10 buzz\n",
            "11\n",
            "12 fizz\n",
            "13\n",
            "14\n",
            "15 fizzbuzz\n",
            "16\n",
            "17\n",
            "18 fizz\n",
            "19\n",
            "20 buzz\n",
            "21 fizz\n",
            "22\n",
            "23\n",
            "24 fizz\n",
            "25 buzz\n",
            "26\n",
            "27 fizz\n",
            "28\n",
            "29\n",
            "30 fizzbuzz\n"
          ],
          "name": "stdout"
        }
      ]
    }
  ]
}